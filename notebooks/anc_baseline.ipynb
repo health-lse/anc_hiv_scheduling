{
 "cells": [
  {
   "cell_type": "code",
   "execution_count": 11,
   "id": "f961de12",
   "metadata": {},
   "outputs": [],
   "source": [
    "# Reads anc baseline files\n",
    "import pandas as pd\n",
    "\n",
    "lse = \"/Users/rafaelfrade/arquivos/desenv/lse\"\n",
    "baseline_survey = f\"{lse}/anc_hiv_scheduling/data/baseline_survey\"\n",
    "\n",
    "hiv_baseline = pd.read_stata(f\"{baseline_survey}/waiting_time_clinic_TC.dta\")\n",
    "hiv_baseline[\"facility_cod\"] = hiv_baseline[\"id\"]\n",
    "\n",
    "treat_control = f\"{lse}/adm_data/art_intervention/test/bases_auxiliares/treatment_hdd.dta\"\n",
    "tc_df = pd.read_stata(treat_control)\n",
    "tc_df = tc_df[[\"facility_cod\", \"treatment\"]]\n",
    "tc_df[\"treatment_status\"] = \"treated\"\n",
    "tc_df.loc[tc_df[\"treatment\"] == 0, \"treatment_status\"] = \"control\"\n",
    "\n",
    "\n",
    "hiv_baseline = hiv_baseline.merge(tc_df, on=\"facility_cod\")"
   ]
  },
  {
   "cell_type": "code",
   "execution_count": 15,
   "id": "0583d4b7",
   "metadata": {},
   "outputs": [
    {
     "data": {
      "text/plain": [
       "treatment\n",
       "0    112.245140\n",
       "1     95.408333\n",
       "Name: waiting_time_min, dtype: float32"
      ]
     },
     "execution_count": 15,
     "metadata": {},
     "output_type": "execute_result"
    }
   ],
   "source": [
    "hiv_baseline.groupby(\"treatment\")[\"waiting_time_min\"].mean()"
   ]
  },
  {
   "cell_type": "code",
   "execution_count": 17,
   "id": "bb98a22c",
   "metadata": {},
   "outputs": [],
   "source": [
    "path_hiv = \"/Users/rafaelfrade/arquivos/desenv/lse/ocr_hiv\"\n",
    "hiv = pd.read_csv(f\"{path_hiv}/hiv_endline_cleaned.csv\")"
   ]
  },
  {
   "cell_type": "code",
   "execution_count": 27,
   "id": "daeca557",
   "metadata": {},
   "outputs": [
    {
     "data": {
      "text/plain": [
       "code\n",
       "0460    12\n",
       "0367     8\n",
       "0320     8\n",
       "0451     8\n",
       "0512     8\n",
       "0321     8\n",
       "0425     8\n",
       "0315     8\n",
       "0412     8\n",
       "0361     8\n",
       "0480     5\n",
       "0356     4\n",
       "0514     4\n",
       "0362     4\n",
       "0355     4\n",
       "0359     4\n",
       "0507     4\n",
       "0513     4\n",
       "0509     4\n",
       "0363     4\n",
       "Name: count, dtype: int64"
      ]
     },
     "execution_count": 27,
     "metadata": {},
     "output_type": "execute_result"
    }
   ],
   "source": [
    "hiv_pharmacy[\"code\"].value_counts().head(20)"
   ]
  },
  {
   "cell_type": "code",
   "execution_count": 24,
   "id": "60cb4b5f",
   "metadata": {},
   "outputs": [
    {
     "data": {
      "text/plain": [
       "(53,)"
      ]
     },
     "execution_count": 24,
     "metadata": {},
     "output_type": "execute_result"
    }
   ],
   "source": [
    "hiv_baseline[\"facility_cod\"].unique().shape\n",
    "#value_counts().head(20)"
   ]
  },
  {
   "cell_type": "code",
   "execution_count": 30,
   "id": "4b00a713",
   "metadata": {},
   "outputs": [
    {
     "data": {
      "text/plain": [
       "clinic_name\n",
       "CS Mazivila                    48\n",
       "Centro de Saude de Bagamoyo    45\n",
       "CS Namaacha                    44\n",
       "CS Mapinhane                   44\n",
       "CS Urbano                      42\n",
       "CS Maragra                     41\n",
       "HR Manjacaze                   40\n",
       "CS Tsalala                     40\n",
       "CS Unidade 7                   40\n",
       "CS de Chidenguele              40\n",
       "CS Magude I                    40\n",
       "CS Macia                       40\n",
       "CS JNyerere                    40\n",
       "CS Praia Bilene                40\n",
       "Massinga CS I                  40\n",
       "Inharrime CS I                 40\n",
       "CS Ricatla                     36\n",
       "CS Romao                       36\n",
       "CS Eduardo Mondlane            36\n",
       "CS Zandamela                   36\n",
       "Name: count, dtype: int64"
      ]
     },
     "execution_count": 30,
     "metadata": {},
     "output_type": "execute_result"
    }
   ],
   "source": [
    "hiv_pharmacy[\"clinic_name\"].value_counts().head(20)"
   ]
  },
  {
   "cell_type": "code",
   "execution_count": 35,
   "id": "46561716",
   "metadata": {},
   "outputs": [
    {
     "data": {
      "text/plain": [
       "treatment\n",
       "Control      6.309795\n",
       "Treatment    6.450098\n",
       "Name: num_wait7H, dtype: float64"
      ]
     },
     "execution_count": 35,
     "metadata": {},
     "output_type": "execute_result"
    }
   ],
   "source": [
    "hiv_pharmacy.groupby(\"treatment\")[\"num_wait7H\"].mean()"
   ]
  },
  {
   "cell_type": "code",
   "execution_count": 36,
   "id": "a963d681",
   "metadata": {},
   "outputs": [],
   "source": [
    "for i in range(7,16):\n",
    "    col_name = f\"num_wait{i}H\"\n",
    "    hiv_pharmacy[i] =  hiv_pharmacy[col_name]\n"
   ]
  },
  {
   "cell_type": "code",
   "execution_count": 43,
   "id": "ec98363e",
   "metadata": {},
   "outputs": [
    {
     "data": {
      "text/plain": [
       "treatment\n",
       "Control      4.547297\n",
       "Treatment    4.736581\n",
       "Name: 12, dtype: float64"
      ]
     },
     "execution_count": 43,
     "metadata": {},
     "output_type": "execute_result"
    }
   ],
   "source": [
    "hiv_pharmacy.groupby(\"treatment\")[12].mean()"
   ]
  },
  {
   "cell_type": "code",
   "execution_count": 55,
   "id": "6ad653c6",
   "metadata": {},
   "outputs": [
    {
     "data": {
      "image/png": "[encoded data removed]",
      "text/plain": [
       "<Figure size 640x480 with 1 Axes>"
      ]
     },
     "metadata": {},
     "output_type": "display_data"
    }
   ],
   "source": [
    "hours = hiv_pharmacy.melt(id_vars=\"treatment\", value_vars=range(7,16))\n",
    "\n",
    "import seaborn as sns \n",
    "import matplotlib.pyplot as plt\n",
    "\n",
    "CONTROL = \"#F95700FF\"#\"#ffc387\"\n",
    "TREATED = \"#00A4CCFF\"#\"#9ed9c3\"\n",
    "palette_anc = [CONTROL, TREATED]\n",
    "order=[\"Control\",\"Treatment\"]\n",
    "\n",
    "\n",
    "sns.barplot(hours, x=\"variable\", y=\"value\",\n",
    "            hue=\"treatment\", palette=palette_anc)\n",
    "plt.title(\"HIV Baseline pharmacy: Number of patients waiting by hour\")\n",
    "plt.ylabel(\"\")\n",
    "plt.xlabel(\"\")\n",
    "plt.show()"
   ]
  },
  {
   "cell_type": "code",
   "execution_count": 56,
   "id": "35158027",
   "metadata": {},
   "outputs": [
    {
     "data": {
      "text/html": [
       "<div>\n",
       "<style scoped>\n",
       "    .dataframe tbody tr th:only-of-type {\n",
       "        vertical-align: middle;\n",
       "    }\n",
       "\n",
       "    .dataframe tbody tr th {\n",
       "        vertical-align: top;\n",
       "    }\n",
       "\n",
       "    .dataframe thead th {\n",
       "        text-align: right;\n",
       "    }\n",
       "</style>\n",
       "<table border=\"1\" class=\"dataframe\">\n",
       "  <thead>\n",
       "    <tr style=\"text-align: right;\">\n",
       "      <th></th>\n",
       "      <th>file_name</th>\n",
       "      <th>facility</th>\n",
       "      <th>day</th>\n",
       "      <th>page</th>\n",
       "      <th>line</th>\n",
       "      <th>arrival_time</th>\n",
       "      <th>consultation_time</th>\n",
       "      <th>treatment</th>\n",
       "      <th>waiting_time</th>\n",
       "      <th>flag</th>\n",
       "    </tr>\n",
       "  </thead>\n",
       "  <tbody>\n",
       "    <tr>\n",
       "      <th>0</th>\n",
       "      <td>endline_US1_day1_page3.txt</td>\n",
       "      <td>1</td>\n",
       "      <td>1</td>\n",
       "      <td>3</td>\n",
       "      <td>2</td>\n",
       "      <td>950</td>\n",
       "      <td>1015</td>\n",
       "      <td>0</td>\n",
       "      <td>25.0</td>\n",
       "      <td>0</td>\n",
       "    </tr>\n",
       "    <tr>\n",
       "      <th>1</th>\n",
       "      <td>endline_US1_day1_page3.txt</td>\n",
       "      <td>1</td>\n",
       "      <td>1</td>\n",
       "      <td>3</td>\n",
       "      <td>3</td>\n",
       "      <td>1015</td>\n",
       "      <td>1625</td>\n",
       "      <td>0</td>\n",
       "      <td>NaN</td>\n",
       "      <td>1</td>\n",
       "    </tr>\n",
       "    <tr>\n",
       "      <th>2</th>\n",
       "      <td>endline_US1_day1_page3.txt</td>\n",
       "      <td>1</td>\n",
       "      <td>1</td>\n",
       "      <td>3</td>\n",
       "      <td>4</td>\n",
       "      <td>1015</td>\n",
       "      <td>1027</td>\n",
       "      <td>0</td>\n",
       "      <td>12.0</td>\n",
       "      <td>0</td>\n",
       "    </tr>\n",
       "    <tr>\n",
       "      <th>3</th>\n",
       "      <td>endline_US1_day1_page3.txt</td>\n",
       "      <td>1</td>\n",
       "      <td>1</td>\n",
       "      <td>3</td>\n",
       "      <td>5</td>\n",
       "      <td>1020</td>\n",
       "      <td>1027</td>\n",
       "      <td>0</td>\n",
       "      <td>7.0</td>\n",
       "      <td>0</td>\n",
       "    </tr>\n",
       "    <tr>\n",
       "      <th>4</th>\n",
       "      <td>endline_US1_day1_page3.txt</td>\n",
       "      <td>1</td>\n",
       "      <td>1</td>\n",
       "      <td>3</td>\n",
       "      <td>6</td>\n",
       "      <td>1015</td>\n",
       "      <td>1032</td>\n",
       "      <td>0</td>\n",
       "      <td>17.0</td>\n",
       "      <td>0</td>\n",
       "    </tr>\n",
       "    <tr>\n",
       "      <th>...</th>\n",
       "      <td>...</td>\n",
       "      <td>...</td>\n",
       "      <td>...</td>\n",
       "      <td>...</td>\n",
       "      <td>...</td>\n",
       "      <td>...</td>\n",
       "      <td>...</td>\n",
       "      <td>...</td>\n",
       "      <td>...</td>\n",
       "      <td>...</td>\n",
       "    </tr>\n",
       "    <tr>\n",
       "      <th>22794</th>\n",
       "      <td>endline_US83_day12_page6.txt</td>\n",
       "      <td>83</td>\n",
       "      <td>12</td>\n",
       "      <td>6</td>\n",
       "      <td>2</td>\n",
       "      <td>1329</td>\n",
       "      <td>1334</td>\n",
       "      <td>0</td>\n",
       "      <td>5.0</td>\n",
       "      <td>0</td>\n",
       "    </tr>\n",
       "    <tr>\n",
       "      <th>22795</th>\n",
       "      <td>endline_US83_day12_page6.txt</td>\n",
       "      <td>83</td>\n",
       "      <td>12</td>\n",
       "      <td>6</td>\n",
       "      <td>3</td>\n",
       "      <td>1329</td>\n",
       "      <td>1334</td>\n",
       "      <td>0</td>\n",
       "      <td>5.0</td>\n",
       "      <td>0</td>\n",
       "    </tr>\n",
       "    <tr>\n",
       "      <th>22796</th>\n",
       "      <td>endline_US83_day12_page6.txt</td>\n",
       "      <td>83</td>\n",
       "      <td>12</td>\n",
       "      <td>6</td>\n",
       "      <td>4</td>\n",
       "      <td>1332</td>\n",
       "      <td>1335</td>\n",
       "      <td>0</td>\n",
       "      <td>3.0</td>\n",
       "      <td>0</td>\n",
       "    </tr>\n",
       "    <tr>\n",
       "      <th>22797</th>\n",
       "      <td>endline_US83_day12_page6.txt</td>\n",
       "      <td>83</td>\n",
       "      <td>12</td>\n",
       "      <td>6</td>\n",
       "      <td>5</td>\n",
       "      <td>1336</td>\n",
       "      <td>1340</td>\n",
       "      <td>0</td>\n",
       "      <td>4.0</td>\n",
       "      <td>0</td>\n",
       "    </tr>\n",
       "    <tr>\n",
       "      <th>22798</th>\n",
       "      <td>endline_US83_day12_page6.txt</td>\n",
       "      <td>83</td>\n",
       "      <td>12</td>\n",
       "      <td>6</td>\n",
       "      <td>6</td>\n",
       "      <td>1341</td>\n",
       "      <td>1349</td>\n",
       "      <td>0</td>\n",
       "      <td>8.0</td>\n",
       "      <td>0</td>\n",
       "    </tr>\n",
       "  </tbody>\n",
       "</table>\n",
       "<p>22799 rows × 10 columns</p>\n",
       "</div>"
      ],
      "text/plain": [
       "                          file_name  facility  day  page  line  arrival_time   \n",
       "0        endline_US1_day1_page3.txt         1    1     3     2           950  \\\n",
       "1        endline_US1_day1_page3.txt         1    1     3     3          1015   \n",
       "2        endline_US1_day1_page3.txt         1    1     3     4          1015   \n",
       "3        endline_US1_day1_page3.txt         1    1     3     5          1020   \n",
       "4        endline_US1_day1_page3.txt         1    1     3     6          1015   \n",
       "...                             ...       ...  ...   ...   ...           ...   \n",
       "22794  endline_US83_day12_page6.txt        83   12     6     2          1329   \n",
       "22795  endline_US83_day12_page6.txt        83   12     6     3          1329   \n",
       "22796  endline_US83_day12_page6.txt        83   12     6     4          1332   \n",
       "22797  endline_US83_day12_page6.txt        83   12     6     5          1336   \n",
       "22798  endline_US83_day12_page6.txt        83   12     6     6          1341   \n",
       "\n",
       "       consultation_time  treatment  waiting_time  flag  \n",
       "0                   1015          0          25.0     0  \n",
       "1                   1625          0           NaN     1  \n",
       "2                   1027          0          12.0     0  \n",
       "3                   1027          0           7.0     0  \n",
       "4                   1032          0          17.0     0  \n",
       "...                  ...        ...           ...   ...  \n",
       "22794               1334          0           5.0     0  \n",
       "22795               1334          0           5.0     0  \n",
       "22796               1335          0           3.0     0  \n",
       "22797               1340          0           4.0     0  \n",
       "22798               1349          0           8.0     0  \n",
       "\n",
       "[22799 rows x 10 columns]"
      ]
     },
     "execution_count": 56,
     "metadata": {},
     "output_type": "execute_result"
    }
   ],
   "source": [
    "\n",
    "hiv.groupby(pd.Grouper(freq='60Min', base=30, label='right'))"
   ]
  },
  {
   "cell_type": "code",
   "execution_count": 65,
   "id": "e896bd6b",
   "metadata": {},
   "outputs": [],
   "source": [
    "\n",
    "\n",
    "def calc_hours_waiting(df):\n",
    "    arrival_time = df[\"arrival_time\"]\n",
    "    consultation_time = df[\"consultation_time\"]\n",
    "    arrival_hour = round(arrival_time/100)\n",
    "    consultation_hour = round(consultation_time/100)\n",
    "\n",
    "    hours_waiting = range(arrival_hour, consultation_hour+1)\n",
    "    return hours_waiting"
   ]
  },
  {
   "cell_type": "code",
   "execution_count": 87,
   "id": "1c758d0b",
   "metadata": {},
   "outputs": [],
   "source": [
    "hiv[\"hours_waiting\"] = pd.NA\n",
    "hours = []\n",
    "for i, row in hiv.iterrows():\n",
    "    arrival_time = row[\"arrival_time\"]\n",
    "    consultation_time = row[\"consultation_time\"]\n",
    "\n",
    "    arrival_hour = round(arrival_time/100)\n",
    "\n",
    "    consultation_hour = round(consultation_time/100)\n",
    "    hours_waiting = range(arrival_hour, consultation_hour+1)\n",
    "    hours.append(list(hours_waiting))\n",
    "hiv[\"hours\"] = hours"
   ]
  },
  {
   "cell_type": "code",
   "execution_count": 119,
   "id": "39a14e6f",
   "metadata": {},
   "outputs": [],
   "source": [
    "\n",
    "\n",
    "wait = hiv.explode(\"hours\")\n",
    "wait = wait.query(\"hours > 5\")\n",
    "wait = wait.groupby([\"facility\",\"treatment\",\"day\",\"hours\"])[\"hours\"].count()"
   ]
  },
  {
   "cell_type": "code",
   "execution_count": 126,
   "id": "f83826ed",
   "metadata": {},
   "outputs": [
    {
     "data": {
      "text/plain": [
       "facility  treatment  day  hours\n",
       "1         0          1    6         2\n",
       "                          7         2\n",
       "                          8         2\n",
       "                          9         2\n",
       "                          10       10\n",
       "                                   ..\n",
       "83        0          12   9         3\n",
       "                          10        3\n",
       "                          11        4\n",
       "                          12        7\n",
       "                          13       10\n",
       "Name: hours, Length: 984928, dtype: int64"
      ]
     },
     "execution_count": 126,
     "metadata": {},
     "output_type": "execute_result"
    }
   ],
   "source": [
    "wait#.reset_index(drop=True)"
   ]
  },
  {
   "cell_type": "code",
   "execution_count": 118,
   "id": "fb1fbe7a",
   "metadata": {},
   "outputs": [
    {
     "ename": "KeyError",
     "evalue": "'hours'",
     "output_type": "error",
     "traceback": [
      "\u001b[0;31m---------------------------------------------------------------------------\u001b[0m",
      "\u001b[0;31mKeyError\u001b[0m                                  Traceback (most recent call last)",
      "File \u001b[0;32m/opt/homebrew/lib/python3.9/site-packages/pandas/core/indexes/base.py:3652\u001b[0m, in \u001b[0;36mIndex.get_loc\u001b[0;34m(self, key)\u001b[0m\n\u001b[1;32m   3651\u001b[0m \u001b[38;5;28;01mtry\u001b[39;00m:\n\u001b[0;32m-> 3652\u001b[0m     \u001b[38;5;28;01mreturn\u001b[39;00m \u001b[38;5;28;43mself\u001b[39;49m\u001b[38;5;241;43m.\u001b[39;49m\u001b[43m_engine\u001b[49m\u001b[38;5;241;43m.\u001b[39;49m\u001b[43mget_loc\u001b[49m\u001b[43m(\u001b[49m\u001b[43mcasted_key\u001b[49m\u001b[43m)\u001b[49m\n\u001b[1;32m   3653\u001b[0m \u001b[38;5;28;01mexcept\u001b[39;00m \u001b[38;5;167;01mKeyError\u001b[39;00m \u001b[38;5;28;01mas\u001b[39;00m err:\n",
      "File \u001b[0;32m/opt/homebrew/lib/python3.9/site-packages/pandas/_libs/index.pyx:147\u001b[0m, in \u001b[0;36mpandas._libs.index.IndexEngine.get_loc\u001b[0;34m()\u001b[0m\n",
      "File \u001b[0;32m/opt/homebrew/lib/python3.9/site-packages/pandas/_libs/index.pyx:155\u001b[0m, in \u001b[0;36mpandas._libs.index.IndexEngine.get_loc\u001b[0;34m()\u001b[0m\n",
      "File \u001b[0;32mpandas/_libs/index_class_helper.pxi:70\u001b[0m, in \u001b[0;36mpandas._libs.index.Int64Engine._check_type\u001b[0;34m()\u001b[0m\n",
      "\u001b[0;31mKeyError\u001b[0m: 'hours'",
      "\nThe above exception was the direct cause of the following exception:\n",
      "\u001b[0;31mKeyError\u001b[0m                                  Traceback (most recent call last)",
      "Input \u001b[0;32mIn [118]\u001b[0m, in \u001b[0;36m<cell line: 1>\u001b[0;34m()\u001b[0m\n\u001b[0;32m----> 1\u001b[0m wait[\u001b[38;5;124m\"\u001b[39m\u001b[38;5;124mh\u001b[39m\u001b[38;5;124m\"\u001b[39m] \u001b[38;5;241m=\u001b[39m \u001b[43mwait\u001b[49m\u001b[43m[\u001b[49m\u001b[38;5;124;43m\"\u001b[39;49m\u001b[38;5;124;43mhours\u001b[39;49m\u001b[38;5;124;43m\"\u001b[39;49m\u001b[43m]\u001b[49m\n",
      "File \u001b[0;32m/opt/homebrew/lib/python3.9/site-packages/pandas/core/series.py:1012\u001b[0m, in \u001b[0;36mSeries.__getitem__\u001b[0;34m(self, key)\u001b[0m\n\u001b[1;32m   1009\u001b[0m     \u001b[38;5;28;01mreturn\u001b[39;00m \u001b[38;5;28mself\u001b[39m\u001b[38;5;241m.\u001b[39m_values[key]\n\u001b[1;32m   1011\u001b[0m \u001b[38;5;28;01melif\u001b[39;00m key_is_scalar:\n\u001b[0;32m-> 1012\u001b[0m     \u001b[38;5;28;01mreturn\u001b[39;00m \u001b[38;5;28;43mself\u001b[39;49m\u001b[38;5;241;43m.\u001b[39;49m\u001b[43m_get_value\u001b[49m\u001b[43m(\u001b[49m\u001b[43mkey\u001b[49m\u001b[43m)\u001b[49m\n\u001b[1;32m   1014\u001b[0m \u001b[38;5;28;01mif\u001b[39;00m is_hashable(key):\n\u001b[1;32m   1015\u001b[0m     \u001b[38;5;66;03m# Otherwise index.get_value will raise InvalidIndexError\u001b[39;00m\n\u001b[1;32m   1016\u001b[0m     \u001b[38;5;28;01mtry\u001b[39;00m:\n\u001b[1;32m   1017\u001b[0m         \u001b[38;5;66;03m# For labels that don't resolve as scalars like tuples and frozensets\u001b[39;00m\n",
      "File \u001b[0;32m/opt/homebrew/lib/python3.9/site-packages/pandas/core/series.py:1121\u001b[0m, in \u001b[0;36mSeries._get_value\u001b[0;34m(self, label, takeable)\u001b[0m\n\u001b[1;32m   1118\u001b[0m     \u001b[38;5;28;01mreturn\u001b[39;00m \u001b[38;5;28mself\u001b[39m\u001b[38;5;241m.\u001b[39m_values[label]\n\u001b[1;32m   1120\u001b[0m \u001b[38;5;66;03m# Similar to Index.get_value, but we do not fall back to positional\u001b[39;00m\n\u001b[0;32m-> 1121\u001b[0m loc \u001b[38;5;241m=\u001b[39m \u001b[38;5;28;43mself\u001b[39;49m\u001b[38;5;241;43m.\u001b[39;49m\u001b[43mindex\u001b[49m\u001b[38;5;241;43m.\u001b[39;49m\u001b[43mget_loc\u001b[49m\u001b[43m(\u001b[49m\u001b[43mlabel\u001b[49m\u001b[43m)\u001b[49m\n\u001b[1;32m   1123\u001b[0m \u001b[38;5;28;01mif\u001b[39;00m is_integer(loc):\n\u001b[1;32m   1124\u001b[0m     \u001b[38;5;28;01mreturn\u001b[39;00m \u001b[38;5;28mself\u001b[39m\u001b[38;5;241m.\u001b[39m_values[loc]\n",
      "File \u001b[0;32m/opt/homebrew/lib/python3.9/site-packages/pandas/core/indexes/multi.py:2811\u001b[0m, in \u001b[0;36mMultiIndex.get_loc\u001b[0;34m(self, key)\u001b[0m\n\u001b[1;32m   2808\u001b[0m     \u001b[38;5;28;01mreturn\u001b[39;00m mask\n\u001b[1;32m   2810\u001b[0m \u001b[38;5;28;01mif\u001b[39;00m \u001b[38;5;129;01mnot\u001b[39;00m \u001b[38;5;28misinstance\u001b[39m(key, \u001b[38;5;28mtuple\u001b[39m):\n\u001b[0;32m-> 2811\u001b[0m     loc \u001b[38;5;241m=\u001b[39m \u001b[38;5;28;43mself\u001b[39;49m\u001b[38;5;241;43m.\u001b[39;49m\u001b[43m_get_level_indexer\u001b[49m\u001b[43m(\u001b[49m\u001b[43mkey\u001b[49m\u001b[43m,\u001b[49m\u001b[43m \u001b[49m\u001b[43mlevel\u001b[49m\u001b[38;5;241;43m=\u001b[39;49m\u001b[38;5;241;43m0\u001b[39;49m\u001b[43m)\u001b[49m\n\u001b[1;32m   2812\u001b[0m     \u001b[38;5;28;01mreturn\u001b[39;00m _maybe_to_slice(loc)\n\u001b[1;32m   2814\u001b[0m keylen \u001b[38;5;241m=\u001b[39m \u001b[38;5;28mlen\u001b[39m(key)\n",
      "File \u001b[0;32m/opt/homebrew/lib/python3.9/site-packages/pandas/core/indexes/multi.py:3159\u001b[0m, in \u001b[0;36mMultiIndex._get_level_indexer\u001b[0;34m(self, key, level, indexer)\u001b[0m\n\u001b[1;32m   3156\u001b[0m         \u001b[38;5;28;01mreturn\u001b[39;00m \u001b[38;5;28mslice\u001b[39m(i, j, step)\n\u001b[1;32m   3158\u001b[0m \u001b[38;5;28;01melse\u001b[39;00m:\n\u001b[0;32m-> 3159\u001b[0m     idx \u001b[38;5;241m=\u001b[39m \u001b[38;5;28;43mself\u001b[39;49m\u001b[38;5;241;43m.\u001b[39;49m\u001b[43m_get_loc_single_level_index\u001b[49m\u001b[43m(\u001b[49m\u001b[43mlevel_index\u001b[49m\u001b[43m,\u001b[49m\u001b[43m \u001b[49m\u001b[43mkey\u001b[49m\u001b[43m)\u001b[49m\n\u001b[1;32m   3161\u001b[0m     \u001b[38;5;28;01mif\u001b[39;00m level \u001b[38;5;241m>\u001b[39m \u001b[38;5;241m0\u001b[39m \u001b[38;5;129;01mor\u001b[39;00m \u001b[38;5;28mself\u001b[39m\u001b[38;5;241m.\u001b[39m_lexsort_depth \u001b[38;5;241m==\u001b[39m \u001b[38;5;241m0\u001b[39m:\n\u001b[1;32m   3162\u001b[0m         \u001b[38;5;66;03m# Desired level is not sorted\u001b[39;00m\n\u001b[1;32m   3163\u001b[0m         \u001b[38;5;28;01mif\u001b[39;00m \u001b[38;5;28misinstance\u001b[39m(idx, \u001b[38;5;28mslice\u001b[39m):\n\u001b[1;32m   3164\u001b[0m             \u001b[38;5;66;03m# test_get_loc_partial_timestamp_multiindex\u001b[39;00m\n",
      "File \u001b[0;32m/opt/homebrew/lib/python3.9/site-packages/pandas/core/indexes/multi.py:2751\u001b[0m, in \u001b[0;36mMultiIndex._get_loc_single_level_index\u001b[0;34m(self, level_index, key)\u001b[0m\n\u001b[1;32m   2749\u001b[0m     \u001b[38;5;28;01mreturn\u001b[39;00m \u001b[38;5;241m-\u001b[39m\u001b[38;5;241m1\u001b[39m\n\u001b[1;32m   2750\u001b[0m \u001b[38;5;28;01melse\u001b[39;00m:\n\u001b[0;32m-> 2751\u001b[0m     \u001b[38;5;28;01mreturn\u001b[39;00m \u001b[43mlevel_index\u001b[49m\u001b[38;5;241;43m.\u001b[39;49m\u001b[43mget_loc\u001b[49m\u001b[43m(\u001b[49m\u001b[43mkey\u001b[49m\u001b[43m)\u001b[49m\n",
      "File \u001b[0;32m/opt/homebrew/lib/python3.9/site-packages/pandas/core/indexes/base.py:3654\u001b[0m, in \u001b[0;36mIndex.get_loc\u001b[0;34m(self, key)\u001b[0m\n\u001b[1;32m   3652\u001b[0m     \u001b[38;5;28;01mreturn\u001b[39;00m \u001b[38;5;28mself\u001b[39m\u001b[38;5;241m.\u001b[39m_engine\u001b[38;5;241m.\u001b[39mget_loc(casted_key)\n\u001b[1;32m   3653\u001b[0m \u001b[38;5;28;01mexcept\u001b[39;00m \u001b[38;5;167;01mKeyError\u001b[39;00m \u001b[38;5;28;01mas\u001b[39;00m err:\n\u001b[0;32m-> 3654\u001b[0m     \u001b[38;5;28;01mraise\u001b[39;00m \u001b[38;5;167;01mKeyError\u001b[39;00m(key) \u001b[38;5;28;01mfrom\u001b[39;00m \u001b[38;5;21;01merr\u001b[39;00m\n\u001b[1;32m   3655\u001b[0m \u001b[38;5;28;01mexcept\u001b[39;00m \u001b[38;5;167;01mTypeError\u001b[39;00m:\n\u001b[1;32m   3656\u001b[0m     \u001b[38;5;66;03m# If we have a listlike key, _check_indexing_error will raise\u001b[39;00m\n\u001b[1;32m   3657\u001b[0m     \u001b[38;5;66;03m#  InvalidIndexError. Otherwise we fall through and re-raise\u001b[39;00m\n\u001b[1;32m   3658\u001b[0m     \u001b[38;5;66;03m#  the TypeError.\u001b[39;00m\n\u001b[1;32m   3659\u001b[0m     \u001b[38;5;28mself\u001b[39m\u001b[38;5;241m.\u001b[39m_check_indexing_error(key)\n",
      "\u001b[0;31mKeyError\u001b[0m: 'hours'"
     ]
    }
   ],
   "source": [
    "wait[\"h\"] = wait[\"hours\"]"
   ]
  },
  {
   "cell_type": "code",
   "execution_count": 117,
   "id": "aac676f2",
   "metadata": {},
   "outputs": [
    {
     "ename": "TypeError",
     "evalue": "rename() got an unexpected keyword argument 'columns'",
     "output_type": "error",
     "traceback": [
      "\u001b[0;31m---------------------------------------------------------------------------\u001b[0m",
      "\u001b[0;31mTypeError\u001b[0m                                 Traceback (most recent call last)",
      "Input \u001b[0;32mIn [117]\u001b[0m, in \u001b[0;36m<cell line: 1>\u001b[0;34m()\u001b[0m\n\u001b[0;32m----> 1\u001b[0m wait \u001b[38;5;241m=\u001b[39m \u001b[43mwait\u001b[49m\u001b[38;5;241;43m.\u001b[39;49m\u001b[43mrename\u001b[49m\u001b[43m(\u001b[49m\u001b[43mcolumns\u001b[49m\u001b[38;5;241;43m=\u001b[39;49m\u001b[43m{\u001b[49m\u001b[38;5;124;43m\"\u001b[39;49m\u001b[38;5;124;43mhours\u001b[39;49m\u001b[38;5;124;43m\"\u001b[39;49m\u001b[43m:\u001b[49m\u001b[38;5;124;43m\"\u001b[39;49m\u001b[38;5;124;43mhours_\u001b[39;49m\u001b[38;5;124;43m\"\u001b[39;49m\u001b[43m}\u001b[49m\u001b[43m)\u001b[49m\n",
      "\u001b[0;31mTypeError\u001b[0m: rename() got an unexpected keyword argument 'columns'"
     ]
    }
   ],
   "source": [
    "wait = wait.rename(columns={\"hours\":\"hours_\"})"
   ]
  },
  {
   "cell_type": "code",
   "execution_count": 115,
   "id": "91895e37",
   "metadata": {},
   "outputs": [
    {
     "data": {
      "text/plain": [
       "facility  treatment  day  hours\n",
       "1         0          1    6         2\n",
       "                          7         2\n",
       "                          8         2\n",
       "                          9         2\n",
       "                          10       10\n",
       "                                   ..\n",
       "83        0          12   9         3\n",
       "                          10        3\n",
       "                          11        4\n",
       "                          12        7\n",
       "                          13       10\n",
       "Name: hours, Length: 984928, dtype: int64"
      ]
     },
     "execution_count": 115,
     "metadata": {},
     "output_type": "execute_result"
    }
   ],
   "source": [
    "wait"
   ]
  },
  {
   "cell_type": "code",
   "execution_count": 103,
   "id": "c4074bac",
   "metadata": {},
   "outputs": [
    {
     "data": {
      "text/html": [
       "<div>\n",
       "<style scoped>\n",
       "    .dataframe tbody tr th:only-of-type {\n",
       "        vertical-align: middle;\n",
       "    }\n",
       "\n",
       "    .dataframe tbody tr th {\n",
       "        vertical-align: top;\n",
       "    }\n",
       "\n",
       "    .dataframe thead th {\n",
       "        text-align: right;\n",
       "    }\n",
       "</style>\n",
       "<table border=\"1\" class=\"dataframe\">\n",
       "  <thead>\n",
       "    <tr style=\"text-align: right;\">\n",
       "      <th></th>\n",
       "      <th>file_name</th>\n",
       "      <th>facility</th>\n",
       "      <th>day</th>\n",
       "      <th>page</th>\n",
       "      <th>line</th>\n",
       "      <th>arrival_time</th>\n",
       "      <th>consultation_time</th>\n",
       "      <th>treatment</th>\n",
       "      <th>waiting_time</th>\n",
       "      <th>flag</th>\n",
       "      <th>hours_waiting</th>\n",
       "      <th>hours</th>\n",
       "    </tr>\n",
       "  </thead>\n",
       "  <tbody>\n",
       "    <tr>\n",
       "      <th>0</th>\n",
       "      <td>endline_US1_day1_page3.txt</td>\n",
       "      <td>1</td>\n",
       "      <td>1</td>\n",
       "      <td>3</td>\n",
       "      <td>2</td>\n",
       "      <td>950</td>\n",
       "      <td>1015</td>\n",
       "      <td>0</td>\n",
       "      <td>25.0</td>\n",
       "      <td>0</td>\n",
       "      <td>&lt;NA&gt;</td>\n",
       "      <td>10</td>\n",
       "    </tr>\n",
       "    <tr>\n",
       "      <th>1</th>\n",
       "      <td>endline_US1_day1_page3.txt</td>\n",
       "      <td>1</td>\n",
       "      <td>1</td>\n",
       "      <td>3</td>\n",
       "      <td>3</td>\n",
       "      <td>1015</td>\n",
       "      <td>1625</td>\n",
       "      <td>0</td>\n",
       "      <td>NaN</td>\n",
       "      <td>1</td>\n",
       "      <td>&lt;NA&gt;</td>\n",
       "      <td>10</td>\n",
       "    </tr>\n",
       "    <tr>\n",
       "      <th>1</th>\n",
       "      <td>endline_US1_day1_page3.txt</td>\n",
       "      <td>1</td>\n",
       "      <td>1</td>\n",
       "      <td>3</td>\n",
       "      <td>3</td>\n",
       "      <td>1015</td>\n",
       "      <td>1625</td>\n",
       "      <td>0</td>\n",
       "      <td>NaN</td>\n",
       "      <td>1</td>\n",
       "      <td>&lt;NA&gt;</td>\n",
       "      <td>11</td>\n",
       "    </tr>\n",
       "    <tr>\n",
       "      <th>1</th>\n",
       "      <td>endline_US1_day1_page3.txt</td>\n",
       "      <td>1</td>\n",
       "      <td>1</td>\n",
       "      <td>3</td>\n",
       "      <td>3</td>\n",
       "      <td>1015</td>\n",
       "      <td>1625</td>\n",
       "      <td>0</td>\n",
       "      <td>NaN</td>\n",
       "      <td>1</td>\n",
       "      <td>&lt;NA&gt;</td>\n",
       "      <td>12</td>\n",
       "    </tr>\n",
       "    <tr>\n",
       "      <th>1</th>\n",
       "      <td>endline_US1_day1_page3.txt</td>\n",
       "      <td>1</td>\n",
       "      <td>1</td>\n",
       "      <td>3</td>\n",
       "      <td>3</td>\n",
       "      <td>1015</td>\n",
       "      <td>1625</td>\n",
       "      <td>0</td>\n",
       "      <td>NaN</td>\n",
       "      <td>1</td>\n",
       "      <td>&lt;NA&gt;</td>\n",
       "      <td>13</td>\n",
       "    </tr>\n",
       "    <tr>\n",
       "      <th>...</th>\n",
       "      <td>...</td>\n",
       "      <td>...</td>\n",
       "      <td>...</td>\n",
       "      <td>...</td>\n",
       "      <td>...</td>\n",
       "      <td>...</td>\n",
       "      <td>...</td>\n",
       "      <td>...</td>\n",
       "      <td>...</td>\n",
       "      <td>...</td>\n",
       "      <td>...</td>\n",
       "      <td>...</td>\n",
       "    </tr>\n",
       "    <tr>\n",
       "      <th>22794</th>\n",
       "      <td>endline_US83_day12_page6.txt</td>\n",
       "      <td>83</td>\n",
       "      <td>12</td>\n",
       "      <td>6</td>\n",
       "      <td>2</td>\n",
       "      <td>1329</td>\n",
       "      <td>1334</td>\n",
       "      <td>0</td>\n",
       "      <td>5.0</td>\n",
       "      <td>0</td>\n",
       "      <td>&lt;NA&gt;</td>\n",
       "      <td>13</td>\n",
       "    </tr>\n",
       "    <tr>\n",
       "      <th>22795</th>\n",
       "      <td>endline_US83_day12_page6.txt</td>\n",
       "      <td>83</td>\n",
       "      <td>12</td>\n",
       "      <td>6</td>\n",
       "      <td>3</td>\n",
       "      <td>1329</td>\n",
       "      <td>1334</td>\n",
       "      <td>0</td>\n",
       "      <td>5.0</td>\n",
       "      <td>0</td>\n",
       "      <td>&lt;NA&gt;</td>\n",
       "      <td>13</td>\n",
       "    </tr>\n",
       "    <tr>\n",
       "      <th>22796</th>\n",
       "      <td>endline_US83_day12_page6.txt</td>\n",
       "      <td>83</td>\n",
       "      <td>12</td>\n",
       "      <td>6</td>\n",
       "      <td>4</td>\n",
       "      <td>1332</td>\n",
       "      <td>1335</td>\n",
       "      <td>0</td>\n",
       "      <td>3.0</td>\n",
       "      <td>0</td>\n",
       "      <td>&lt;NA&gt;</td>\n",
       "      <td>13</td>\n",
       "    </tr>\n",
       "    <tr>\n",
       "      <th>22797</th>\n",
       "      <td>endline_US83_day12_page6.txt</td>\n",
       "      <td>83</td>\n",
       "      <td>12</td>\n",
       "      <td>6</td>\n",
       "      <td>5</td>\n",
       "      <td>1336</td>\n",
       "      <td>1340</td>\n",
       "      <td>0</td>\n",
       "      <td>4.0</td>\n",
       "      <td>0</td>\n",
       "      <td>&lt;NA&gt;</td>\n",
       "      <td>13</td>\n",
       "    </tr>\n",
       "    <tr>\n",
       "      <th>22798</th>\n",
       "      <td>endline_US83_day12_page6.txt</td>\n",
       "      <td>83</td>\n",
       "      <td>12</td>\n",
       "      <td>6</td>\n",
       "      <td>6</td>\n",
       "      <td>1341</td>\n",
       "      <td>1349</td>\n",
       "      <td>0</td>\n",
       "      <td>8.0</td>\n",
       "      <td>0</td>\n",
       "      <td>&lt;NA&gt;</td>\n",
       "      <td>13</td>\n",
       "    </tr>\n",
       "  </tbody>\n",
       "</table>\n",
       "<p>1042747 rows × 12 columns</p>\n",
       "</div>"
      ],
      "text/plain": [
       "                          file_name  facility  day  page  line  arrival_time   \n",
       "0        endline_US1_day1_page3.txt         1    1     3     2           950  \\\n",
       "1        endline_US1_day1_page3.txt         1    1     3     3          1015   \n",
       "1        endline_US1_day1_page3.txt         1    1     3     3          1015   \n",
       "1        endline_US1_day1_page3.txt         1    1     3     3          1015   \n",
       "1        endline_US1_day1_page3.txt         1    1     3     3          1015   \n",
       "...                             ...       ...  ...   ...   ...           ...   \n",
       "22794  endline_US83_day12_page6.txt        83   12     6     2          1329   \n",
       "22795  endline_US83_day12_page6.txt        83   12     6     3          1329   \n",
       "22796  endline_US83_day12_page6.txt        83   12     6     4          1332   \n",
       "22797  endline_US83_day12_page6.txt        83   12     6     5          1336   \n",
       "22798  endline_US83_day12_page6.txt        83   12     6     6          1341   \n",
       "\n",
       "       consultation_time  treatment  waiting_time  flag hours_waiting hours  \n",
       "0                   1015          0          25.0     0          <NA>    10  \n",
       "1                   1625          0           NaN     1          <NA>    10  \n",
       "1                   1625          0           NaN     1          <NA>    11  \n",
       "1                   1625          0           NaN     1          <NA>    12  \n",
       "1                   1625          0           NaN     1          <NA>    13  \n",
       "...                  ...        ...           ...   ...           ...   ...  \n",
       "22794               1334          0           5.0     0          <NA>    13  \n",
       "22795               1334          0           5.0     0          <NA>    13  \n",
       "22796               1335          0           3.0     0          <NA>    13  \n",
       "22797               1340          0           4.0     0          <NA>    13  \n",
       "22798               1349          0           8.0     0          <NA>    13  \n",
       "\n",
       "[1042747 rows x 12 columns]"
      ]
     },
     "execution_count": 103,
     "metadata": {},
     "output_type": "execute_result"
    }
   ],
   "source": [
    "hiv.explode(\"hours\")"
   ]
  }
 ],
 "metadata": {
  "kernelspec": {
   "display_name": "ocr_venv",
   "language": "python",
   "name": "ocr_venv"
  },
  "language_info": {
   "codemirror_mode": {
    "name": "ipython",
    "version": 3
   },
   "file_extension": ".py",
   "mimetype": "text/x-python",
   "name": "python",
   "nbconvert_exporter": "python",
   "pygments_lexer": "ipython3",
   "version": "3.9.17"
  }
 },
 "nbformat": 4,
 "nbformat_minor": 5
}
